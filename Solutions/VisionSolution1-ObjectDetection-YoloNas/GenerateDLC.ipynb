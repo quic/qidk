{
 "cells": [
  {
   "cell_type": "markdown",
   "id": "039733ac-47fb-4ab3-a842-1013a2e1dea3",
   "metadata": {},
   "source": [
    "# Setting Up All Artifacts details"
   ]
  },
  {
   "cell_type": "code",
   "execution_count": null,
   "id": "ca28e659-dd04-4f14-9a04-c8fbf3f0e33a",
   "metadata": {},
   "outputs": [],
   "source": [
    "## Give appropriate permission to the directory \"FOLDER_WITH_ARTIFACTS\" you are working with\n",
    "import os\n",
    "# \"/local/mnt/workspace/snpe/2.24.0.240626\"\n",
    "os.environ['SNPE_ROOT']=\"/local/mnt/workspace/snpe/2.29.0.241129\"#set up your snpe path here.\n",
    "os.environ['RAW_FILE_FOLDER']=\"raw\"\n",
    "os.environ['DLC32']=\"models/yolo_nas_fp32.dlc\"\n",
    "os.environ['DLC8']=\"models/yolo_nas_w8a8.dlc\"\n",
    "os.environ['TARGET_INPUT_LIST']=\"input.txt\"\n",
    "os.environ['ONDEVICE_FOLDER']=\"yolonas\"\n",
    "os.environ['DEVICE_HOST']=\"localhost\"\n",
    "os.environ['DEVICE_ID']=\"728b7a92\" #change with your device-id. Use command \"adb devices\" to get devices names.\n",
    "os.environ['SNPE_TARGET_ARCH']=\"aarch64-android\"\n",
    "os.environ['SNPE_TARGET_STL']=\"libc++_shared.so\""
   ]
  },
  {
   "cell_type": "code",
   "execution_count": null,
   "id": "1ea7c3bb-9f35-4d1c-84b7-c5de30ec895e",
   "metadata": {
    "scrolled": true
   },
   "outputs": [],
   "source": [
    "## Note- Use python3.8 or above for generating onnx\n",
    "!pip install super-gradients==3.1.2\n",
    "import torch\n",
    "from super_gradients.training import models\n",
    "from super_gradients.common.object_names import Models\n",
    "import cv2\n",
    "import numpy as np\n",
    "import os"
   ]
  },
  {
   "cell_type": "markdown",
   "id": "85db567b-85d4-4565-9eb5-c29cde94996a",
   "metadata": {},
   "source": [
    "## Getting The dataset\n",
    "Please, fill coco dataset link in below code block."
   ]
  },
  {
   "cell_type": "code",
   "execution_count": null,
   "id": "fceaa07b-a67f-41df-85f4-f5b0c29effde",
   "metadata": {
    "scrolled": true
   },
   "outputs": [],
   "source": [
    "!wget http://images.cocodataset.org/zips/val2017.zip -q --show-progress\n",
    "!unzip val2017.zip\n",
    "!mkdir \"raw\""
   ]
  },
  {
   "cell_type": "code",
   "execution_count": null,
   "id": "22d96d19-406d-4173-b8f9-b6b77fadf02c",
   "metadata": {},
   "outputs": [],
   "source": [
    "files = os.listdir('val2017') #val2017 is the datatset folder path. Keeping only 15 images.\n",
    "for file in files[15:]:\n",
    "    os.remove(\"val2017/\"+file)"
   ]
  },
  {
   "cell_type": "code",
   "execution_count": null,
   "id": "375f062f-5407-487a-942f-6d44a324af82",
   "metadata": {},
   "outputs": [],
   "source": [
    "%%bash\n",
    "rm -rf coco\n",
    "rm -rf coco2017labels.zip\n",
    "rm -rf val2017.zip"
   ]
  },
  {
   "cell_type": "markdown",
   "id": "1228d5e0-beb1-4033-be62-165dcdd3bd02",
   "metadata": {},
   "source": [
    "## Getting the ONNX Model"
   ]
  },
  {
   "cell_type": "code",
   "execution_count": null,
   "id": "dadb32d9-064e-428e-bb3e-270765df79da",
   "metadata": {},
   "outputs": [],
   "source": [
    "os.makedirs('models', exist_ok=True)"
   ]
  },
  {
   "cell_type": "code",
   "execution_count": null,
   "id": "c6522d80-61d2-47df-a84a-69cf802dc1f3",
   "metadata": {},
   "outputs": [],
   "source": [
    "model = models.get(Models.YOLO_NAS_S, pretrained_weights=\"coco\")\n",
    "# Prpare model for conversion\n",
    "# Input size is in format of [Batch x Channels x Width x Height] where 640 is the standard COCO dataset dimensions\n",
    "model.eval()\n",
    "model.prep_model_for_conversion(input_size=[1, 3, 320, 320])\n",
    "# Create dummy_input\n",
    "dummy_input = torch.randn([1, 3, 320, 320], device=\"cpu\")\n",
    "# Convert model to onnx\n",
    "torch.onnx.export(model, dummy_input, \"models/yolo_nas_s.onnx\", opset_version=11)"
   ]
  },
  {
   "cell_type": "markdown",
   "id": "c672610a-f036-4fab-8837-2d83dbe051b7",
   "metadata": {},
   "source": [
    "#### Getting the FP32 Model"
   ]
  },
  {
   "cell_type": "code",
   "execution_count": null,
   "id": "09ce77df-5e7c-4bcc-896c-023eec610993",
   "metadata": {},
   "outputs": [],
   "source": [
    "%%bash\n",
    "source $SNPE_ROOT/bin/envsetup.sh\n",
    "snpe-onnx-to-dlc -i models/yolo_nas_s.onnx -o app/src/main/assets/yolo_nas_s.dlc --out_node 893 --out_node 885"
   ]
  },
  {
   "cell_type": "markdown",
   "id": "5a9e015e-d724-4178-9630-c74c263d0a7a",
   "metadata": {},
   "source": [
    "## Preprocessing"
   ]
  },
  {
   "cell_type": "code",
   "execution_count": null,
   "id": "7339803b-968a-403e-b914-0c3825c81605",
   "metadata": {},
   "outputs": [],
   "source": [
    "def preprocess(original_image):\n",
    "    resized_image = cv2.resize(original_image, (320, 320))\n",
    "    resized_image = resized_image/255\n",
    "    return resized_image\n",
    "##Please download Coco2014 dataset and give the path here\n",
    "dataset_path = \"val2017/\"\n",
    "!mkdir -p rawYoloNAS\n",
    "filenames=[]\n",
    "for path in os.listdir(dataset_path):\n",
    "    # check if current path is a file\n",
    "    if os.path.isfile(os.path.join(dataset_path, path)):\n",
    "        filenames.append(os.path.join(dataset_path, path))\n",
    "for filename in filenames:\n",
    "    original_image = cv2.imread(filename)\n",
    "    img = preprocess(original_image)\n",
    "    img = img.astype(np.float32)\n",
    "    img.tofile(\"raw/\"+filename.split(\"/\")[-1].split(\".\")[0]+\".raw\")"
   ]
  },
  {
   "cell_type": "code",
   "execution_count": null,
   "id": "9acc7241-3049-48b0-bdc3-80df6049d28c",
   "metadata": {},
   "outputs": [],
   "source": [
    "%%bash\n",
    "find raw -name *.raw > input.txt"
   ]
  },
  {
   "cell_type": "markdown",
   "id": "09838622-c04b-4357-b5a6-361f955b4f65",
   "metadata": {},
   "source": [
    "## Quantize the DLC"
   ]
  },
  {
   "cell_type": "code",
   "execution_count": null,
   "id": "918fe137-ea15-461c-9cd0-69ce0480ffb5",
   "metadata": {},
   "outputs": [],
   "source": [
    "%%bash\n",
    "source $SNPE_ROOT/bin/envsetup.sh\n",
    "snpe-dlc-quantize --input_dlc app/src/main/assets/yolo_nas_s.dlc --input_list input.txt --output_dlc app/src/main/assets/Quant_intermediate_yoloNas_s_320.dlc"
   ]
  },
  {
   "cell_type": "markdown",
   "id": "d1e9bba2",
   "metadata": {},
   "source": [
    "<b>- Based on the device where you will execute the model set --htp_socs to sm8750 or sm8650 or sm8550</b>"
   ]
  },
  {
   "cell_type": "code",
   "execution_count": null,
   "id": "073e30e8-361e-4278-bf57-0ec1d8827532",
   "metadata": {},
   "outputs": [],
   "source": [
    "%%bash\n",
    "source $SNPE_ROOT/bin/envsetup.sh\n",
    "snpe-dlc-graph-prepare --input_dlc app/src/main/assets/Quant_intermediate_yoloNas_s_320.dlc --set_output_tensors=893,885 --htp_socs=sm8750 --output_dlc=app/src/main/assets/Quant_yoloNas_s_320.dlc"
   ]
  },
  {
   "cell_type": "code",
   "execution_count": null,
   "id": "15149e0a-a09b-444a-a9c9-3a49519bc8f4",
   "metadata": {},
   "outputs": [],
   "source": []
  }
 ],
 "metadata": {
  "kernelspec": {
   "display_name": "Python 3 (ipykernel)",
   "language": "python",
   "name": "python3"
  },
  "language_info": {
   "codemirror_mode": {
    "name": "ipython",
    "version": 3
   },
   "file_extension": ".py",
   "mimetype": "text/x-python",
   "name": "python",
   "nbconvert_exporter": "python",
   "pygments_lexer": "ipython3",
   "version": "3.10.12"
  }
 },
 "nbformat": 4,
 "nbformat_minor": 5
}
